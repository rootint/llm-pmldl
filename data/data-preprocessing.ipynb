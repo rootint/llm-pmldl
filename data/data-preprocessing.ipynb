{
 "cells": [
  {
   "cell_type": "markdown",
   "metadata": {},
   "source": [
    "Search page names ans summary for ML related topics on Wikipedia using wikipedia library"
   ]
  },
  {
   "cell_type": "code",
   "execution_count": 5,
   "metadata": {},
   "outputs": [
    {
     "name": "stdout",
     "output_type": "stream",
     "text": [
      "Error while fetching summary for Machine learning: Page id \"machine ;earning\" does not match any pages. Try another id!\n",
      "Error while fetching summary for Machine learning: Page id \"machine ;earning\" does not match any pages. Try another id!\n",
      "Error while fetching summary for Deepfake: Page id \"deep face\" does not match any pages. Try another id!\n",
      "Error while fetching summary for Machine learning: Page id \"machine ;earning\" does not match any pages. Try another id!\n",
      "Error while fetching summary for Machine learning: Page id \"machine ;earning\" does not match any pages. Try another id!\n",
      "                                   Topic  \\\n",
      "0               Quantum machine learning   \n",
      "1           Adversarial machine learning   \n",
      "2            Boosting (machine learning)   \n",
      "3   Transformer (machine learning model)   \n",
      "4                          Deep learning   \n",
      "5                Artificial intelligence   \n",
      "6                 Support vector machine   \n",
      "7               Torch (machine learning)   \n",
      "8           Attention (machine learning)   \n",
      "9                          Deep learning   \n",
      "10            Deep Learning (South Park)   \n",
      "11           Deep reinforcement learning   \n",
      "12          Deep learning super sampling   \n",
      "13               Deep learning processor   \n",
      "14                            Q-learning   \n",
      "15                 Layer (deep learning)   \n",
      "16  Comparison of deep learning software   \n",
      "17             Artificial neural network   \n",
      "18                        Neural network   \n",
      "19          Convolutional neural network   \n",
      "20              Recurrent neural network   \n",
      "21           Rectifier (neural networks)   \n",
      "22               Residual neural network   \n",
      "23            Feedforward neural network   \n",
      "24                  Graph neural network   \n",
      "25                         Deep learning   \n",
      "26                Optical neural network   \n",
      "27                   Supervised learning   \n",
      "28              Self-supervised learning   \n",
      "29                      Weak supervision   \n",
      "30                 Unsupervised learning   \n",
      "31                      Feature learning   \n",
      "32                Reinforcement learning   \n",
      "33                Support vector machine   \n",
      "34                         Deep learning   \n",
      "35                Decision tree learning   \n",
      "36                 Unsupervised learning   \n",
      "37                      Feature learning   \n",
      "38              Self-supervised learning   \n",
      "39             Artificial neural network   \n",
      "40                Support vector machine   \n",
      "41                 Computational biology   \n",
      "42     Data analysis for fraud detection   \n",
      "43                         Random forest   \n",
      "44                  Competitive learning   \n",
      "\n",
      "                                              Summary  \n",
      "0   Quantum machine learning is the integration of...  \n",
      "1   Adversarial machine learning is the study of t...  \n",
      "2   In machine learning, boosting is an ensemble m...  \n",
      "3   A transformer is a deep learning architecture,...  \n",
      "4   Deep learning is the subset of machine learnin...  \n",
      "5   Artificial intelligence (AI) is the intelligen...  \n",
      "6   In machine learning, support vector machines (...  \n",
      "7   Torch is an open-source machine learning libra...  \n",
      "8   Machine learning-based attention is a mechanis...  \n",
      "9   Deep learning is the subset of machine learnin...  \n",
      "10  \"Deep Learning\" is the fourth episode of the t...  \n",
      "11  Deep reinforcement learning (deep RL) is a sub...  \n",
      "12  Deep learning super sampling (DLSS) is a famil...  \n",
      "13  A deep learning processor (DLP), or a deep lea...  \n",
      "14  Q-learning is a model-free reinforcement learn...  \n",
      "15  A layer in a deep learning model is a structur...  \n",
      "16  The following table compares notable software ...  \n",
      "17  Artificial neural networks (ANNs, also shorten...  \n",
      "18  Artificial neural networks (ANNs, also shorten...  \n",
      "19  Convolutional neural network (CNN) is a regula...  \n",
      "20  A recurrent neural network (RNN) is one of the...  \n",
      "21  In the context of artificial neural networks, ...  \n",
      "22  A Residual Neural Network (a.k.a. Residual Net...  \n",
      "23  A feedforward neural network (FNN) is one of t...  \n",
      "24  A graph neural network (GNN) is a class of art...  \n",
      "25  Deep learning is the subset of machine learnin...  \n",
      "26  An optical neural network is a physical implem...  \n",
      "27  Supervised learning (SL) is a paradigm in mach...  \n",
      "28  Self-supervised learning (SSL) is a paradigm i...  \n",
      "29  Weak supervision, also called semi-supervised ...  \n",
      "30  Supervised learning (SL) is a paradigm in mach...  \n",
      "31  In machine learning, feature learning or repre...  \n",
      "32  Reinforcement learning (RL) is an interdiscipl...  \n",
      "33  In machine learning, support vector machines (...  \n",
      "34  Deep learning is the subset of machine learnin...  \n",
      "35  Decision tree learning is a supervised learnin...  \n",
      "36  Supervised learning (SL) is a paradigm in mach...  \n",
      "37  In machine learning, feature learning or repre...  \n",
      "38  Self-supervised learning (SSL) is a paradigm i...  \n",
      "39  Artificial neural networks (ANNs, also shorten...  \n",
      "40  In machine learning, support vector machines (...  \n",
      "41  Computational biology refers to the use of dat...  \n",
      "42  Fraud represents a significant problem for gov...  \n",
      "43  Random forests or random decision forests is a...  \n",
      "44  Competitive learning is a form of unsupervised...  \n"
     ]
    }
   ],
   "source": [
    "# Import required packages\n",
    "import wikipedia\n",
    "import pandas as pd\n",
    "\n",
    "# Define the search topics\n",
    "topics = [\"Machine Learning\", \"Deep Learning\", \"Neural Networks\", \"Supervised Learning\", \"Unsupervised Learning\"]\n",
    "\n",
    "# Function to search and store results in a DataFrame\n",
    "def search_and_summarize(topics):\n",
    "    data = []\n",
    "    for topic in topics:\n",
    "        try:\n",
    "            # Search for the topic\n",
    "            search_result = wikipedia.search(topic)\n",
    "            # For each search result, get the summary\n",
    "            for item in search_result:\n",
    "                try:\n",
    "                    summary = wikipedia.summary(item)\n",
    "                    data.append({\"Topic\": item, \"Summary\": summary})\n",
    "                except Exception as e:\n",
    "                    print(f\"Error while fetching summary for {item}: {e}\")\n",
    "        except Exception as e:\n",
    "            print(f\"Error occurred while searching for {topic}: {e}\")\n",
    "    return pd.DataFrame(data)\n",
    "\n",
    "# Call the function and store results in a DataFrame\n",
    "df_topics = search_and_summarize(topics)\n",
    "\n",
    "# Display the DataFrame\n",
    "df_topics.head()"
   ]
  },
  {
   "cell_type": "code",
   "execution_count": 10,
   "metadata": {},
   "outputs": [
    {
     "data": {
      "text/plain": [
       "'Quantum machine learning is the integration of quantum algorithms within machine learning programs.The most common use of the term refers to machine learning algorithms for the analysis of classical data executed on a quantum computer, i.e. quantum-enhanced machine learning. While machine learning algorithms are used to compute immense quantities of data, quantum machine learning utilizes qubits and quantum operations or specialized quantum systems to improve computational speed and data storage done by algorithms in a program. This includes hybrid methods that involve both classical and quantum processing, where computationally difficult subroutines are outsourced to a quantum device. These routines can be more complex in nature and executed faster on a quantum computer. Furthermore, quantum algorithms can be used to analyze quantum states instead of classical data.Beyond quantum computing, the term \"quantum machine learning\" is also associated with classical machine learning methods applied to data generated from quantum experiments (i.e. machine learning of quantum systems), such as learning the phase transitions of a quantum system or creating new quantum experiments.Quantum machine learning also extends to a branch of research that explores methodological and structural similarities between certain physical systems and learning systems, in particular neural networks. For example, some mathematical and numerical techniques from quantum physics are applicable to classical deep learning and vice versa.Furthermore, researchers investigate more abstract notions of learning theory with respect to quantum information, sometimes referred to as \"quantum learning theory\".\\n\\n'"
      ]
     },
     "execution_count": 10,
     "metadata": {},
     "output_type": "execute_result"
    }
   ],
   "source": [
    "df_topics.iloc[0]['Summary']"
   ]
  },
  {
   "cell_type": "markdown",
   "metadata": {},
   "source": [
    "Interview queations on paper."
   ]
  },
  {
   "cell_type": "code",
   "execution_count": 77,
   "metadata": {},
   "outputs": [],
   "source": [
    "with open('ML_Q_A.txt') as f:\n",
    "    lines = f.readlines()\n",
    "quest = []\n",
    "ans = []\n",
    "global_ans = []\n",
    "answer= False\n",
    "count = 0\n",
    "for line in lines:\n",
    "    line = line.replace('\\n', '')\n",
    "    if '&' in line and answer == False:\n",
    "        answer = True\n",
    "        count+=1\n",
    "    elif '&' in line and answer == True:\n",
    "        answer = False\n",
    "        count+=1\n",
    "\n",
    "    if line != '':\n",
    "        if answer:\n",
    "            ans.append(line.replace('&', ''))\n",
    "        else:\n",
    "            quest.append(line.replace('&', ''))\n",
    "    if count == 2:\n",
    "        count = 0\n",
    "        global_ans.append(''.join(ans))\n",
    "        ans = []\n",
    "global_ans.append(ans)\n"
   ]
  },
  {
   "cell_type": "code",
   "execution_count": 78,
   "metadata": {},
   "outputs": [
    {
     "name": "stdout",
     "output_type": "stream",
     "text": [
      "                                             Question  \\\n",
      "0                    What is Artificial Intelligence?   \n",
      "1                 What are the different types of AI?   \n",
      "2           Explain the concept of Machine Learning.?   \n",
      "3    What is the difference between supervised and...   \n",
      "4         Define Deep Learning and its applications.?   \n",
      "..                                                ...   \n",
      "95   What are the challenges of AI in transportation?   \n",
      "96  Describe the concept of sentiment analysis in ...   \n",
      "97  What is the difference between data preprocess...   \n",
      "98  Explain the concept of transfer learning in co...   \n",
      "99   How does the Hierarchical Clustering algorith...   \n",
      "\n",
      "                                               Answer  \n",
      "0   Artificial Intelligence (AI) refers to the fie...  \n",
      "1   There are typically four different types or ca...  \n",
      "2   Machine Learning (ML) is a subfield of Artific...  \n",
      "3   The main difference between supervised and uns...  \n",
      "4   Deep Learning is a subfield of Machine Learnin...  \n",
      "..                                                ...  \n",
      "95  AI has the potential to revolutionize the tran...  \n",
      "96  Sentiment analysis, also known as opinion mini...  \n",
      "97  Data preprocessing and data cleaning are two i...  \n",
      "98  Transfer learning is a technique used in compu...  \n",
      "99  [Hierarchical Clustering is an unsupervised ma...  \n",
      "\n",
      "[100 rows x 2 columns]\n"
     ]
    }
   ],
   "source": [
    "data = pd.DataFrame(\n",
    "    {'Question': quest,\n",
    "     'Answer': global_ans\n",
    "    })\n",
    "print(data)"
   ]
  }
 ],
 "metadata": {
  "kernelspec": {
   "display_name": "base",
   "language": "python",
   "name": "python3"
  },
  "language_info": {
   "codemirror_mode": {
    "name": "ipython",
    "version": 3
   },
   "file_extension": ".py",
   "mimetype": "text/x-python",
   "name": "python",
   "nbconvert_exporter": "python",
   "pygments_lexer": "ipython3",
   "version": "3.9.18"
  }
 },
 "nbformat": 4,
 "nbformat_minor": 2
}
